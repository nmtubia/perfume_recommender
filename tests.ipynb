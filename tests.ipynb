{
 "cells": [
  {
   "cell_type": "code",
   "execution_count": 1,
   "id": "6252b870-0c05-4a10-b80b-34b964e2dc72",
   "metadata": {},
   "outputs": [],
   "source": [
    "import pandas as pd"
   ]
  },
  {
   "cell_type": "code",
   "execution_count": 2,
   "id": "760e0eda-0b5a-4e78-a011-71480296971b",
   "metadata": {},
   "outputs": [],
   "source": [
    "notes = pd.read_csv('categories_notes.csv')"
   ]
  },
  {
   "cell_type": "code",
   "execution_count": 6,
   "id": "4161d7b4-0aea-48fe-8539-3e1e15afc88b",
   "metadata": {},
   "outputs": [
    {
     "data": {
      "text/html": [
       "<div>\n",
       "<style scoped>\n",
       "    .dataframe tbody tr th:only-of-type {\n",
       "        vertical-align: middle;\n",
       "    }\n",
       "\n",
       "    .dataframe tbody tr th {\n",
       "        vertical-align: top;\n",
       "    }\n",
       "\n",
       "    .dataframe thead th {\n",
       "        text-align: right;\n",
       "    }\n",
       "</style>\n",
       "<table border=\"1\" class=\"dataframe\">\n",
       "  <thead>\n",
       "    <tr style=\"text-align: right;\">\n",
       "      <th></th>\n",
       "      <th>Category</th>\n",
       "      <th>Description</th>\n",
       "      <th>Notes</th>\n",
       "    </tr>\n",
       "  </thead>\n",
       "  <tbody>\n",
       "    <tr>\n",
       "      <th>0</th>\n",
       "      <td>CITRUS SMELLS</td>\n",
       "      <td>\\nMost often by citrus in perfumery we describ...</td>\n",
       "      <td>Bergamot, Bigarade, Bitter Orange, Blood Orang...</td>\n",
       "    </tr>\n",
       "    <tr>\n",
       "      <th>1</th>\n",
       "      <td>FRUITS, VEGETABLES AND NUTS</td>\n",
       "      <td>\\nFruity notes beyond citrus (which form a cla...</td>\n",
       "      <td>Acai Berry, Acerola, Acorn, Almond, Apple, App...</td>\n",
       "    </tr>\n",
       "    <tr>\n",
       "      <th>2</th>\n",
       "      <td>FLOWERS</td>\n",
       "      <td>\\nA self-evident category of fragrance notes, ...</td>\n",
       "      <td>Acacia, Acerola Blossom, Aglaia, Albizia, Almo...</td>\n",
       "    </tr>\n",
       "    <tr>\n",
       "      <th>3</th>\n",
       "      <td>WHITE FLOWERS</td>\n",
       "      <td>\\nThis is a subgroup within the Flowers group,...</td>\n",
       "      <td>Arum Lily, Belanis, Black Locust, Boronia, Car...</td>\n",
       "    </tr>\n",
       "    <tr>\n",
       "      <th>4</th>\n",
       "      <td>GREENS, HERBS AND FOUGERES</td>\n",
       "      <td>\\nBy the term \"green\" we refer to notes of sna...</td>\n",
       "      <td>Agave, Algae, Aloe Vera, Ammophila (Beach Gras...</td>\n",
       "    </tr>\n",
       "    <tr>\n",
       "      <th>5</th>\n",
       "      <td>SPICES</td>\n",
       "      <td>\\nThe Spices group is a familiar category of p...</td>\n",
       "      <td>Allspice, Anise, Asafoetida, Bay Leaf, Bengal ...</td>\n",
       "    </tr>\n",
       "    <tr>\n",
       "      <th>6</th>\n",
       "      <td>SWEETS AND GOURMAND SMELLS</td>\n",
       "      <td>\\nThis succulent group of scent notes has real...</td>\n",
       "      <td>Acetyl Furan, Agave Nectar, Apple Pie, Baba (I...</td>\n",
       "    </tr>\n",
       "    <tr>\n",
       "      <th>7</th>\n",
       "      <td>WOODS AND MOSSES</td>\n",
       "      <td>\\nWoody notes are dependable and pliable, a so...</td>\n",
       "      <td>Agarwood (Oud), Akigalawood, Alder, Almond tre...</td>\n",
       "    </tr>\n",
       "    <tr>\n",
       "      <th>8</th>\n",
       "      <td>RESINS AND BALSAMS</td>\n",
       "      <td>\\nThe raw materials falling under the umbrella...</td>\n",
       "      <td>Amberwood, Andiroba, Bakhoor, Balsamic Notes, ...</td>\n",
       "    </tr>\n",
       "    <tr>\n",
       "      <th>9</th>\n",
       "      <td>MUSK, AMBER, ANIMALIC SMELLS</td>\n",
       "      <td>\\nThe term \"animalic\" refers to both raw aroma...</td>\n",
       "      <td>Akashic Acord, Aldron, Amber, Amber Xtreme, Am...</td>\n",
       "    </tr>\n",
       "    <tr>\n",
       "      <th>10</th>\n",
       "      <td>BEVERAGES</td>\n",
       "      <td>\\nFragrances often recreate the scent of popul...</td>\n",
       "      <td>Absinthe, Advocaat, Amaretto, Applejack, Baile...</td>\n",
       "    </tr>\n",
       "    <tr>\n",
       "      <th>11</th>\n",
       "      <td>NATURAL AND SYNTHETIC, POPULAR AND WEIRD</td>\n",
       "      <td>\\nIn this group we place descriptive notes suc...</td>\n",
       "      <td>Pepperwood™, Accord Eudora®, Alcantara Accord,...</td>\n",
       "    </tr>\n",
       "  </tbody>\n",
       "</table>\n",
       "</div>"
      ],
      "text/plain": [
       "                                    Category  \\\n",
       "0                              CITRUS SMELLS   \n",
       "1                FRUITS, VEGETABLES AND NUTS   \n",
       "2                                    FLOWERS   \n",
       "3                              WHITE FLOWERS   \n",
       "4                 GREENS, HERBS AND FOUGERES   \n",
       "5                                     SPICES   \n",
       "6                 SWEETS AND GOURMAND SMELLS   \n",
       "7                           WOODS AND MOSSES   \n",
       "8                         RESINS AND BALSAMS   \n",
       "9               MUSK, AMBER, ANIMALIC SMELLS   \n",
       "10                                 BEVERAGES   \n",
       "11  NATURAL AND SYNTHETIC, POPULAR AND WEIRD   \n",
       "\n",
       "                                          Description  \\\n",
       "0   \\nMost often by citrus in perfumery we describ...   \n",
       "1   \\nFruity notes beyond citrus (which form a cla...   \n",
       "2   \\nA self-evident category of fragrance notes, ...   \n",
       "3   \\nThis is a subgroup within the Flowers group,...   \n",
       "4   \\nBy the term \"green\" we refer to notes of sna...   \n",
       "5   \\nThe Spices group is a familiar category of p...   \n",
       "6   \\nThis succulent group of scent notes has real...   \n",
       "7   \\nWoody notes are dependable and pliable, a so...   \n",
       "8   \\nThe raw materials falling under the umbrella...   \n",
       "9   \\nThe term \"animalic\" refers to both raw aroma...   \n",
       "10  \\nFragrances often recreate the scent of popul...   \n",
       "11  \\nIn this group we place descriptive notes suc...   \n",
       "\n",
       "                                                Notes  \n",
       "0   Bergamot, Bigarade, Bitter Orange, Blood Orang...  \n",
       "1   Acai Berry, Acerola, Acorn, Almond, Apple, App...  \n",
       "2   Acacia, Acerola Blossom, Aglaia, Albizia, Almo...  \n",
       "3   Arum Lily, Belanis, Black Locust, Boronia, Car...  \n",
       "4   Agave, Algae, Aloe Vera, Ammophila (Beach Gras...  \n",
       "5   Allspice, Anise, Asafoetida, Bay Leaf, Bengal ...  \n",
       "6   Acetyl Furan, Agave Nectar, Apple Pie, Baba (I...  \n",
       "7   Agarwood (Oud), Akigalawood, Alder, Almond tre...  \n",
       "8   Amberwood, Andiroba, Bakhoor, Balsamic Notes, ...  \n",
       "9   Akashic Acord, Aldron, Amber, Amber Xtreme, Am...  \n",
       "10  Absinthe, Advocaat, Amaretto, Applejack, Baile...  \n",
       "11  Pepperwood™, Accord Eudora®, Alcantara Accord,...  "
      ]
     },
     "execution_count": 6,
     "metadata": {},
     "output_type": "execute_result"
    }
   ],
   "source": [
    "notes"
   ]
  },
  {
   "cell_type": "code",
   "execution_count": 7,
   "id": "191fa1b3-86e6-4175-9e53-ed0014643bcf",
   "metadata": {},
   "outputs": [],
   "source": [
    "idx = notes['Category'] == 'CITRUS SMELLS'"
   ]
  },
  {
   "cell_type": "code",
   "execution_count": 9,
   "id": "1559b0bf-9217-46be-bb02-f59f8c136f69",
   "metadata": {},
   "outputs": [],
   "source": [
    "citrus = notes[idx]"
   ]
  },
  {
   "cell_type": "code",
   "execution_count": 12,
   "id": "e6b6476a-0cc3-48b7-aa10-10a902df8135",
   "metadata": {},
   "outputs": [
    {
     "data": {
      "text/plain": [
       "0    \\nMost often by citrus in perfumery we describ...\n",
       "Name: Description, dtype: object"
      ]
     },
     "execution_count": 12,
     "metadata": {},
     "output_type": "execute_result"
    }
   ],
   "source": [
    "citrus['Description']"
   ]
  },
  {
   "cell_type": "code",
   "execution_count": null,
   "id": "95934f11-359c-4386-b44a-575ef554d257",
   "metadata": {},
   "outputs": [],
   "source": []
  }
 ],
 "metadata": {
  "kernelspec": {
   "display_name": "Python 3 (ipykernel)",
   "language": "python",
   "name": "python3"
  },
  "language_info": {
   "codemirror_mode": {
    "name": "ipython",
    "version": 3
   },
   "file_extension": ".py",
   "mimetype": "text/x-python",
   "name": "python",
   "nbconvert_exporter": "python",
   "pygments_lexer": "ipython3",
   "version": "3.11.10"
  }
 },
 "nbformat": 4,
 "nbformat_minor": 5
}
